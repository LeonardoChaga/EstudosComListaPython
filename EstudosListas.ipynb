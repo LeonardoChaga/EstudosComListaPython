{
  "nbformat": 4,
  "nbformat_minor": 0,
  "metadata": {
    "colab": {
      "name": "TrabLista.ipynb",
      "provenance": [],
      "collapsed_sections": []
    },
    "kernelspec": {
      "name": "python3",
      "display_name": "Python 3"
    }
  },
  "cells": [
    {
      "cell_type": "markdown",
      "metadata": {
        "id": "Q0W8_fHbRFuB"
      },
      "source": [
        "**Exercício N° 2 Letra: A**"
      ]
    },
    {
      "cell_type": "code",
      "metadata": {
        "id": "QL8urjqhOFtW"
      },
      "source": [
        "\n",
        "def melhorTempoN(natacaoT,triatlon):\n",
        " for index, atleta in enumerate(triatlon):\n",
        "  if min(triatlon[0][5],triatlon[1][5]) in atleta:\n",
        "    return index"
      ],
      "execution_count": 1,
      "outputs": []
    },
    {
      "cell_type": "code",
      "metadata": {
        "id": "Y6oHkm8XO8y6"
      },
      "source": [
        "def melhorTempoCI(ciclismoT,triatlon):\n",
        " for index, atleta in enumerate(triatlon):\n",
        "  if min(triatlon[0][7],triatlon[1][7]) in atleta:\n",
        "    return index"
      ],
      "execution_count": 2,
      "outputs": []
    },
    {
      "cell_type": "code",
      "metadata": {
        "id": "LouaUNjOPbOY"
      },
      "source": [
        "def melhorTempoCO(corridaT,triatlon):\n",
        " for index, atleta in enumerate(triatlon):\n",
        "  if min(triatlon[0][6],triatlon[1][6]) in atleta:\n",
        "    return index"
      ],
      "execution_count": 3,
      "outputs": []
    },
    {
      "cell_type": "code",
      "metadata": {
        "id": "rpj3SPOSVz-W"
      },
      "source": [
        "def melhorAtleta(corridaT,triatlon,ciclismoT):\n",
        " for index, atleta in enumerate(triatlon):\n",
        "  if min(triatlon[0][5],triatlon[1][5],triatlon[0][7],triatlon[1][7],triatlon[0][6],triatlon[1][6]) in atleta:\n",
        "    return index"
      ],
      "execution_count": 4,
      "outputs": []
    },
    {
      "cell_type": "code",
      "metadata": {
        "id": "5xoEwckoc9vx",
        "colab": {
          "base_uri": "https://localhost:8080/"
        },
        "outputId": "d479647e-2b0a-4f24-9384-98c72f1f6d29"
      },
      "source": [
        "\n",
        "triatlon = []\n",
        "atleta = []\n",
        "index = 0\n",
        "total = 0\n",
        "print(\"MENU\")\n",
        "print(\"Lista Triatlon: \")\n",
        "print(\"Opção 1: Inserir Atleta: \")\n",
        "print(\"Opção 2: Atletas com os melhores tempos em cada categoria : \")\n",
        "print(\"Opção 3: Nome do patrocinador e do melhor atleta: \")\n",
        "opcao = int(input(\"Escolha uma opção: \"))\n",
        "\n",
        "\n",
        "for a in range(0,2):\n",
        "  print('Lista Triatlon: ')\n",
        "  if opcao == 1:  \n",
        "    print(f'Dados do atleta {index + 1}: ')\n",
        "    nome = input('Insira seu nome completo: ')\n",
        "    patrocinador = input('Insira o seu patrocinador: ')\n",
        "    dia = int(input('Insira o dia em que nasceu: '))\n",
        "  if dia <= 0 or dia >= 31:\n",
        "    print('Dados inválidos, tente novamente.')\n",
        "\n",
        "  mes = int(input('insira o mês em que nasceu: '))\n",
        "  if mes <= 0 or mes >= 12:\n",
        "    print('Dados inválidos, tente novamente.') \n",
        "  \n",
        "  ano = int(input('Insira o ano em que nasceu: '))\n",
        "  if ano <= 0:\n",
        "    print('Dados inválidos, tente novamente.')\n",
        "  \n",
        "  natacaoT = int(input('Insira o seu tempo na natação: '))\n",
        "  if natacaoT <= 0:\n",
        "    print('Dados inválidos, tente novamente.')\n",
        "  \n",
        "  corridaT = int(input('Insira o seu tempo na corrida: '))\n",
        "  if corridaT <= 0:\n",
        "    print('Dados inválidos, tente novamente.')\n",
        "  \n",
        "  ciclismoT = int(input('Insira o seu tempo no ciclismo: '))\n",
        "  if ciclismoT <= 0:\n",
        "    print('Dados inválidos, tente novamente.')\n",
        "  if opcao == 2:\n",
        "    print(\"Melhor tempo na natação:\")\n",
        "    print(f\"{triatlon[mNatacao][0]} , {triatlon[mNatacao][5]}\")\n",
        "\n",
        "     \n",
        "  atleta = [nome,patrocinador,dia,mes,ano,natacaoT,corridaT,ciclismoT]\n",
        "  triatlon.append(atleta)\n",
        "  index+=1\n",
        "  if index == total:\n",
        "    break\n",
        "\n",
        "\n",
        "\n",
        " \n"
      ],
      "execution_count": 5,
      "outputs": [
        {
          "output_type": "stream",
          "text": [
            "MENU\n",
            "Lista Triatlon: \n",
            "Opção 1: Inserir Atleta: \n",
            "Opção 2: Atletas com os melhores tempos em cada categoria : \n",
            "Opção 3: Nome do patrocinador e do melhor atleta: \n",
            "Escolha uma opção: 1\n",
            "Lista Triatlon: \n",
            "Dados do atleta 1: \n",
            "Insira seu nome completo: Robson\n",
            "Insira o seu patrocinador: Coca Cola\n",
            "Insira o dia em que nasceu: 12\n",
            "insira o mês em que nasceu: 05\n",
            "Insira o ano em que nasceu: 1990\n",
            "Insira o seu tempo na natação: 20\n",
            "Insira o seu tempo na corrida: 32\n",
            "Insira o seu tempo no ciclismo: 34\n",
            "Lista Triatlon: \n",
            "Dados do atleta 2: \n",
            "Insira seu nome completo: Wilson\n",
            "Insira o seu patrocinador: Sprite\n",
            "Insira o dia em que nasceu: 10\n",
            "insira o mês em que nasceu: 09\n",
            "Insira o ano em que nasceu: 1985\n",
            "Insira o seu tempo na natação: 45\n",
            "Insira o seu tempo na corrida: 54\n",
            "Insira o seu tempo no ciclismo: 65\n"
          ],
          "name": "stdout"
        }
      ]
    },
    {
      "cell_type": "code",
      "metadata": {
        "id": "HK267EXs7IBE",
        "colab": {
          "base_uri": "https://localhost:8080/"
        },
        "outputId": "de8f392b-1c57-4bb3-e228-8ee9f65d1fbe"
      },
      "source": [
        "triatlon"
      ],
      "execution_count": 6,
      "outputs": [
        {
          "output_type": "execute_result",
          "data": {
            "text/plain": [
              "[['Robson', 'Coca Cola', 12, 5, 1990, 20, 32, 34],\n",
              " ['Wilson', 'Sprite', 10, 9, 1985, 45, 54, 65]]"
            ]
          },
          "metadata": {
            "tags": []
          },
          "execution_count": 6
        }
      ]
    },
    {
      "cell_type": "code",
      "metadata": {
        "id": "yvZB0W50knAz",
        "colab": {
          "base_uri": "https://localhost:8080/"
        },
        "outputId": "39fe3d14-d896-4b62-9cb7-09e6b6a12a95"
      },
      "source": [
        "mNatacao = melhorTempoN(natacaoT,triatlon)\n",
        "mCiclismo = melhorTempoCI(ciclismoT,triatlon)\n",
        "mCorrida = melhorTempoCO(corridaT,triatlon)\n",
        "print(\"Melhor tempo na natação:\")\n",
        "print(f\"{triatlon[mNatacao][0]} , {triatlon[mNatacao][5]}\")\n",
        "print(\"\\nMelhor tempo na corrida:\")\n",
        "print(f\"{triatlon[mCorrida][0]} , {triatlon[mCorrida][6]}\")\n",
        "print(\"\\nMelhor tempo no ciclismo:\")\n",
        "print(f\"{triatlon[mCiclismo][0]} , {triatlon[mCiclismo][7]}\")\n"
      ],
      "execution_count": 7,
      "outputs": [
        {
          "output_type": "stream",
          "text": [
            "Melhor tempo na natação:\n",
            "Robson , 20\n",
            "\n",
            "Melhor tempo na corrida:\n",
            "Robson , 32\n",
            "\n",
            "Melhor tempo no ciclismo:\n",
            "Robson , 34\n"
          ],
          "name": "stdout"
        }
      ]
    },
    {
      "cell_type": "markdown",
      "metadata": {
        "id": "4Daym6jXRPjW"
      },
      "source": [
        "**Exercício N°2 Letra: B**"
      ]
    },
    {
      "cell_type": "markdown",
      "metadata": {
        "id": "gNkH5wX1SnZP"
      },
      "source": [
        "**Exercício N°3 Letra: A e C**"
      ]
    },
    {
      "cell_type": "code",
      "metadata": {
        "id": "zxu8M6lRqEwu"
      },
      "source": [
        "def pesquisarContato(contato,contatoPesquisa):\n",
        "  for c in enumerate(contato):\n",
        "    if contato[0] in contato:\n",
        "      return contato[0],contato[1],contato[2]\n",
        "  return -1\n",
        "\n"
      ],
      "execution_count": 11,
      "outputs": []
    },
    {
      "cell_type": "code",
      "metadata": {
        "id": "lnQq0niN8rvS"
      },
      "source": [
        "def removeContato(contato):\n",
        " if remove in agenda:\n",
        "  agenda.remove(remove)\n"
      ],
      "execution_count": 12,
      "outputs": []
    },
    {
      "cell_type": "code",
      "metadata": {
        "id": "Xw8dseZQSl5Q",
        "colab": {
          "base_uri": "https://localhost:8080/"
        },
        "outputId": "6da101bc-6303-4763-eaa3-78330e42fcc0"
      },
      "source": [
        "total = 2\n",
        "index = 0\n",
        "contato = []\n",
        "print(\"MENU\")\n",
        "print(\"Lista de Contatos: \")\n",
        "print(\"Opção 1: Inserir contato: \")\n",
        "opcao = int(input(\"Escolha uma opção: \"))\n",
        "while True:\n",
        "  if opcao == 1:\n",
        "    print(f'Dados do Contato {index + 1}')\n",
        "    nome = input(\"Insira o nome do contato: \")\n",
        "    email = input(\"Insira o email do contato: \")\n",
        "    whats = int(input(\"Insira o whats do contato: \"))\n",
        "    if whats < 0:\n",
        "      print(\"Dados inválidos, tente novamente.\")\n",
        "    contato = [nome,email,whats]\n",
        "    index += 1\n",
        "    if index == total:\n",
        "     break\n",
        "\n",
        "\n",
        "\n",
        "\n",
        "\n",
        "\n",
        "\n",
        "\n"
      ],
      "execution_count": 29,
      "outputs": [
        {
          "output_type": "stream",
          "text": [
            "MENU\n",
            "Lista de Contatos: \n",
            "Opção 1: Inserir contato: \n",
            "Escolha uma opção: 1\n",
            "Dados do Contato 1\n",
            "Insira o nome do contato: Wilson\n",
            "Insira o email do contato: wilson@gmail.com\n",
            "Insira o whats do contato: 2799873454\n",
            "Dados do Contato 2\n",
            "Insira o nome do contato: Léo\n",
            "Insira o email do contato: leo@gmail.com\n",
            "Insira o whats do contato: 2765756755\n"
          ],
          "name": "stdout"
        }
      ]
    },
    {
      "cell_type": "code",
      "metadata": {
        "id": "cHsYuD-rUdAZ",
        "colab": {
          "base_uri": "https://localhost:8080/"
        },
        "outputId": "6d1eaab6-f7a5-4dca-cd2c-b3e2dff1dcfb"
      },
      "source": [
        "contatoPesquisa = input('Insira o nome do contato que quer pesquisar: ')\n",
        "resposta = pesquisarContato(contato,contatoPesquisa)\n",
        "if resposta == -1:\n",
        "  print(\"Contato não existente.\")\n",
        "else:\n",
        "  print(f'Nome: {pesquisarContato(contato,contatoPesquisa)}   ')\n"
      ],
      "execution_count": 30,
      "outputs": [
        {
          "output_type": "stream",
          "text": [
            "Insira o nome do contato que quer pesquisar: Léo\n",
            "Nome: ('Léo', 'leo@gmail.com', 2765756755)   \n"
          ],
          "name": "stdout"
        }
      ]
    },
    {
      "cell_type": "markdown",
      "metadata": {
        "id": "vaJVeIhTjiaF"
      },
      "source": [
        "**Exercício 3 Letra: C**\n"
      ]
    },
    {
      "cell_type": "code",
      "metadata": {
        "id": "NQnuwKdTj3DL"
      },
      "source": [
        "try:\n",
        "  contato.remove()\n",
        "except Exception as erro:\n",
        "  print(f'Erro! {erro}')"
      ],
      "execution_count": null,
      "outputs": []
    }
  ]
}