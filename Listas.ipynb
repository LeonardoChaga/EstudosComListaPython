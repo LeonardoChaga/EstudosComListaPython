{
  "nbformat": 4,
  "nbformat_minor": 0,
  "metadata": {
    "colab": {
      "name": "TrabLista.ipynb",
      "provenance": [],
      "collapsed_sections": []
    },
    "kernelspec": {
      "name": "python3",
      "display_name": "Python 3"
    }
  },
  "cells": [
    {
      "cell_type": "markdown",
      "metadata": {
        "id": "Q0W8_fHbRFuB"
      },
      "source": [
        "**Exercício N° 2 Letra: A**"
      ]
    },
    {
      "cell_type": "code",
      "metadata": {
        "id": "QL8urjqhOFtW"
      },
      "source": [
        "\n",
        "def melhorTempoN(natacaoT,triatlon):\n",
        " for index, atleta in enumerate(triatlon):\n",
        "  if min(triatlon[0][5],triatlon[1][5],triatlon[2][5],triatlon[3][5]) in atleta:\n",
        "    return index"
      ],
      "execution_count": null,
      "outputs": []
    },
    {
      "cell_type": "code",
      "metadata": {
        "id": "zYotSP1IPCSF"
      },
      "source": [
        "def melhorTempoCO(corridaT,triatlon):\n",
        " for index, atleta in enumerate(triatlon):\n",
        "  if min(triatlon[0][6],triatlon[1][6],triatlon[2][6],triatlon[3][6]) in atleta:\n",
        "    return index"
      ],
      "execution_count": null,
      "outputs": []
    },
    {
      "cell_type": "code",
      "metadata": {
        "id": "-8-wYDiHO_gP"
      },
      "source": [
        "def melhorTempoCI(ciclismoT,triatlon):\n",
        " for index, atleta in enumerate(triatlon):\n",
        "  if min(triatlon[0][7],triatlon[1][7],triatlon[2][7],triatlon[3][7]) in atleta:\n",
        "    return index"
      ],
      "execution_count": null,
      "outputs": []
    },
    {
      "cell_type": "code",
      "metadata": {
        "id": "tYxVmax9RWmG"
      },
      "source": [
        "def melhorAtleta(natacaoT,corridaT,ciclismoT,triatlon):\n",
        " for index, atleta in enumerate(triatlon):\n",
        "  if min(triatlon[0][5],triatlon[1][5],triatlon[2][5],triatlon[3][5],triatlon[0][6],triatlon[1][6],triatlon[2][6],triatlon[3][6],triatlon[0][7],triatlon[1][7],triatlon[2][7],triatlon[3][7]) in atleta:\n",
        "    return index"
      ],
      "execution_count": null,
      "outputs": []
    },
    {
      "cell_type": "code",
      "metadata": {
        "id": "5xoEwckoc9vx",
        "colab": {
          "base_uri": "https://localhost:8080/"
        },
        "outputId": "b7515cde-3595-4f39-f18e-b22a41880eef"
      },
      "source": [
        "triatlon = []\n",
        "atleta = []\n",
        "index = 0\n",
        "total = 4\n",
        "triatlon = []\n",
        "atleta = []\n",
        "index = 0\n",
        "total = 0\n",
        "\n",
        "\n",
        "for a in range(0,4):\n",
        "  print('Lista Triatlon: ')\n",
        "  print(f'Dados do atleta {index + 1}: ')\n",
        "  nome = input('Insira seu nome completo: ')\n",
        "  patrocinador = input('Insira o seu patrocinador: ')\n",
        "  dia = int(input('Insira o dia em que nasceu: '))\n",
        "  if dia <= 0 or dia >= 31:\n",
        "    print('Dados inválidos, tente novamente.')\n",
        "\n",
        "  mes = int(input('insira o mês em que nasceu: '))\n",
        "  if mes <= 0 or mes >= 12:\n",
        "    print('Dados inválidos, tente novamente.') \n",
        "  \n",
        "  ano = int(input('Insira o ano em que nasceu: '))\n",
        "  if ano <= 0:\n",
        "    print('Dados inválidos, tente novamente.')\n",
        "  \n",
        "  natacaoT = int(input('Insira o seu tempo na natação: '))\n",
        "  if natacaoT <= 0:\n",
        "    print('Dados inválidos, tente novamente.')\n",
        "  \n",
        "  corridaT = int(input('Insira o seu tempo na corrida: '))\n",
        "  if corridaT <= 0:\n",
        "    print('Dados inválidos, tente novamente.')\n",
        "  \n",
        "  ciclismoT = int(input('Insira o seu tempo no ciclismo: '))\n",
        "  if ciclismoT <= 0:\n",
        "    print('Dados inválidos, tente novamente.')\n",
        "\n",
        "     \n",
        "  atleta = [nome,patrocinador,dia,mes,ano,natacaoT,corridaT,ciclismoT]\n",
        "  triatlon.append(atleta)\n",
        "  index+=1\n",
        "  if index == total:\n",
        "    break\n"
      ],
      "execution_count": null,
      "outputs": [
        {
          "output_type": "stream",
          "text": [
            "Lista Triatlon: \n",
            "Dados do atleta 1: \n",
            "Insira seu nome completo: Wallyngton's\n",
            "Insira o seu patrocinador: RONALDAO COXINHAS\n",
            "Insira o dia em que nasceu: 20\n",
            "insira o mês em que nasceu: 01\n",
            "Insira o ano em que nasceu: 1985\n",
            "Insira o seu tempo na natação: 20\n",
            "Insira o seu tempo na corrida: 30\n",
            "Insira o seu tempo no ciclismo: 25\n",
            "Lista Triatlon: \n",
            "Dados do atleta 2: \n",
            "Insira seu nome completo: Uallace\n",
            "Insira o seu patrocinador: Sherek Lanches\n",
            "Insira o dia em que nasceu: 10\n",
            "insira o mês em que nasceu: 09\n",
            "Insira o ano em que nasceu: 1998\n",
            "Insira o seu tempo na natação: 36\n",
            "Insira o seu tempo na corrida: 44\n",
            "Insira o seu tempo no ciclismo: 52\n",
            "Lista Triatlon: \n",
            "Dados do atleta 3: \n",
            "Insira seu nome completo: Uiliam \n",
            "Insira o seu patrocinador: SUMMER ELECTRO HITS 2005\n",
            "Insira o dia em que nasceu: 04\n",
            "insira o mês em que nasceu: 02\n",
            "Insira o ano em que nasceu: 2000\n",
            "Insira o seu tempo na natação: 55\n",
            "Insira o seu tempo na corrida: 21\n",
            "Insira o seu tempo no ciclismo: 39\n",
            "Lista Triatlon: \n",
            "Dados do atleta 4: \n",
            "Insira seu nome completo: Uanderlei\n",
            "Insira o seu patrocinador: Épou\n",
            "Insira o dia em que nasceu: 14\n",
            "insira o mês em que nasceu: 09\n",
            "Insira o ano em que nasceu: 1982\n",
            "Insira o seu tempo na natação: 44\n",
            "Insira o seu tempo na corrida: 58\n",
            "Insira o seu tempo no ciclismo: 60\n"
          ],
          "name": "stdout"
        }
      ]
    },
    {
      "cell_type": "code",
      "metadata": {
        "id": "yvZB0W50knAz",
        "colab": {
          "base_uri": "https://localhost:8080/"
        },
        "outputId": "9a3cb3af-6f85-4c1e-d775-a8c1dfa3df89"
      },
      "source": [
        "mNatacao = melhorTempoN(natacaoT,triatlon)\n",
        "mCiclismo = melhorTempoCI(ciclismoT,triatlon)\n",
        "mCorrida = melhorTempoCO(corridaT,triatlon)\n",
        "print(\"Melhor tempo na natação:\")\n",
        "print(f\"{triatlon[mNatacao][0]} , {triatlon[mNatacao][5]}\")\n",
        "print(\"\\nMelhor tempo na corrida:\")\n",
        "print(f\"{triatlon[mCorrida][0]} , {triatlon[mCorrida][6]}\")\n",
        "print(\"\\nMelhor tempo no ciclismo:\")\n",
        "print(f\"{triatlon[mCiclismo][0]} , {triatlon[mCiclismo][7]}\")\n"
      ],
      "execution_count": null,
      "outputs": [
        {
          "output_type": "stream",
          "text": [
            "Melhor tempo na natação:\n",
            "Wallyngton's , 20\n",
            "\n",
            "Melhor tempo na corrida:\n",
            "Uiliam  , 21\n",
            "\n",
            "Melhor tempo no ciclismo:\n",
            "Wallyngton's , 25\n"
          ],
          "name": "stdout"
        }
      ]
    },
    {
      "cell_type": "markdown",
      "metadata": {
        "id": "4Daym6jXRPjW"
      },
      "source": [
        "**Exercício N°2 Letra: B**"
      ]
    },
    {
      "cell_type": "code",
      "metadata": {
        "id": "GOnhQcT0Rlgm",
        "colab": {
          "base_uri": "https://localhost:8080/"
        },
        "outputId": "3ceea8c4-43f7-444b-a908-e7ed0cff5d88"
      },
      "source": [
        "melhorAtleta = melhorAtleta(natacaoT,corridaT,ciclismoT,triatlon)\n",
        "print(\"Melhor atleta:\")\n",
        "print(f\"{triatlon[melhorAtleta][0]}, {triatlon[melhorAtleta][1]} \")\n"
      ],
      "execution_count": null,
      "outputs": [
        {
          "output_type": "stream",
          "text": [
            "Melhor atleta:\n",
            "Wallyngton's, RONALDAO COXINHAS \n"
          ],
          "name": "stdout"
        }
      ]
    },
    {
      "cell_type": "markdown",
      "metadata": {
        "id": "gNkH5wX1SnZP"
      },
      "source": [
        "**Exercício N°3 Letra: A**"
      ]
    },
    {
      "cell_type": "code",
      "metadata": {
        "id": "zxu8M6lRqEwu"
      },
      "source": [
        "def pesquisarContato(contato,contatoPesquisa):\n",
        "  for index, contato in enumerate(agenda):\n",
        "    if contato[0] == contatoPesquisa:\n",
        "      return index\n",
        "  return -1\n",
        "\n"
      ],
      "execution_count": null,
      "outputs": []
    },
    {
      "cell_type": "code",
      "metadata": {
        "id": "Xw8dseZQSl5Q",
        "colab": {
          "base_uri": "https://localhost:8080/"
        },
        "outputId": "e7016bf1-b43e-486e-a251-113d5994b091"
      },
      "source": [
        "total = 5\n",
        "index = 0\n",
        "agenda = []\n",
        "contato = []\n",
        "print(\"MENU\")\n",
        "print(\"Lista de Contatos: \")\n",
        "print(\"Opção 1: Inserir contato: \")\n",
        "opcao = int(input(\"Escolha uma opção: \"))\n",
        "while True:\n",
        "  if opcao == 1:\n",
        "    print(f'Dados do Contato {index + 1}')\n",
        "    nome = input(\"Insira o nome do contato: \")\n",
        "    email = input(\"Insira o email do contato: \")\n",
        "    whats = int(input(\"Insira o whatsapp do contato: \"))\n",
        "    if whats < 0:\n",
        "      print(\"Dados inválidos, tente novamente.\")\n",
        "    contato = [nome,email,whats]\n",
        "    agenda.append(contato)\n",
        "    index += 1\n",
        "    if index == total:\n",
        "     break\n",
        "\n",
        "\n",
        "\n",
        "\n",
        "\n",
        "\n",
        "\n",
        "\n",
        "\n",
        "     \n",
        "\n",
        "\n",
        "\n",
        "\n",
        "\n",
        "\n",
        "\n",
        "\n"
      ],
      "execution_count": null,
      "outputs": [
        {
          "output_type": "stream",
          "text": [
            "MENU\n",
            "Lista de Contatos: \n",
            "Opção 1: Inserir contato: \n",
            "Escolha uma opção: 1\n",
            "Dados do Contato 1\n",
            "Insira o nome do contato: ronaldo\n",
            "Insira o email do contato: ronaldao@gmail.com\n",
            "Insira o whatsapp do contato: 27998543658\n",
            "Dados do Contato 2\n",
            "Insira o nome do contato: wallyngton\n",
            "Insira o email do contato:  wallyngton@gmail.com\n",
            "Insira o whatsapp do contato: 27998475678\n",
            "Dados do Contato 3\n",
            "Insira o nome do contato: mecanico carlos\n",
            "Insira o email do contato: carlao@gmail.com\n",
            "Insira o whatsapp do contato: 27998401256\n",
            "Dados do Contato 4\n",
            "Insira o nome do contato: bill gates\n",
            "Insira o email do contato: bill@microsoft.com\n",
            "Insira o whatsapp do contato: 27998745623\n",
            "Dados do Contato 5\n",
            "Insira o nome do contato: will smith\n",
            "Insira o email do contato: will@ummaluconopedaco.com\n",
            "Insira o whatsapp do contato: 27998545678\n"
          ],
          "name": "stdout"
        }
      ]
    },
    {
      "cell_type": "code",
      "metadata": {
        "id": "cHsYuD-rUdAZ",
        "colab": {
          "base_uri": "https://localhost:8080/"
        },
        "outputId": "34fa96aa-7f7c-4e6f-e531-0497f0a65502"
      },
      "source": [
        "print(\"PESQUISAR CONTATO: \")\n",
        "contatoPesquisa = input('Insira o nome do contato que quer pesquisar: ')\n",
        "resposta = pesquisarContato(contato,contatoPesquisa)\n",
        "if resposta == -1:\n",
        "  print(\"Contato não existente.\")\n",
        "else:\n",
        "  print(f'Nome: {agenda[resposta][0]} E-mail: {agenda[resposta][1]} Whatsapp: {agenda[resposta][2]}  ')\n"
      ],
      "execution_count": null,
      "outputs": [
        {
          "output_type": "stream",
          "text": [
            "PESQUISAR CONTATO: \n",
            "Insira o nome do contato que quer pesquisar: will smith\n",
            "Nome: will smith E-mail: will@ummaluconopedaco.com Whatsapp: 27998545678  \n"
          ],
          "name": "stdout"
        }
      ]
    },
    {
      "cell_type": "markdown",
      "metadata": {
        "id": "zlALSJwVIX11"
      },
      "source": [
        "**Exercício 3 Letra: B**"
      ]
    },
    {
      "cell_type": "code",
      "metadata": {
        "id": "rj5WJb7BMqQL"
      },
      "source": [
        "def pesquisarALTContato(contato,contatoPesquisa):\n",
        "  for index, contato in enumerate(agenda):\n",
        "    if contato[1] == emailPesquisa:\n",
        "      return index\n",
        "  return -1\n"
      ],
      "execution_count": null,
      "outputs": []
    },
    {
      "cell_type": "code",
      "metadata": {
        "id": "9f1QPKzWI28h",
        "colab": {
          "base_uri": "https://localhost:8080/"
        },
        "outputId": "194ce530-cbb0-436d-f2a6-97d51b8a08a0"
      },
      "source": [
        "print(\"ALTERAR CONTATO: \")\n",
        "try:\n",
        "  emailPesquisa = input('Entre com o email do contato que quer alterar: ')\n",
        "  indexPesquisado = pesquisarALTContato(contato,contatoPesquisa)\n",
        "  if indexPesquisado == -1:\n",
        "    print(f'Contato: {emailPesquisa} não está na agenda.')\n",
        "  else:\n",
        "    novoN = int(input(\"insira o novo numero: \"))\n",
        "    agenda[pesquisarALTContato(contato,contatoPesquisa)][2] = novoN\n",
        "except Exception as e:\n",
        "  print(e)\n",
        "  \n",
        "\n"
      ],
      "execution_count": null,
      "outputs": [
        {
          "output_type": "stream",
          "text": [
            "ALTERAR CONTATO: \n",
            "Entre com o email do contato que quer alterar: ronaldao@gmail.com\n",
            "insira o novo numero: 27998545676\n"
          ],
          "name": "stdout"
        }
      ]
    },
    {
      "cell_type": "markdown",
      "metadata": {
        "id": "vaJVeIhTjiaF"
      },
      "source": [
        "**Exercício 3 Letra: C**\n"
      ]
    },
    {
      "cell_type": "code",
      "metadata": {
        "id": "NQnuwKdTj3DL",
        "colab": {
          "base_uri": "https://localhost:8080/"
        },
        "outputId": "378f6ca1-0085-456d-8674-6845afb96ee7"
      },
      "source": [
        "print(\"REMOVER CONTATO: \")\n",
        "try:\n",
        "  nomePesquisa = input('Entre com o nome do contato que quer deletar: ')\n",
        "  indexPesquisado = pesquisarContato(contato,contatoPesquisa)\n",
        "  if indexPesquisado == -1:\n",
        "    print(f'Contato: {nomePesquisa} não está na agenda.')\n",
        "  else:\n",
        "    agenda.pop(indexPesquisado)\n",
        "except Exception as erro:\n",
        "  print(f'ERRO: {erro}')  \n",
        "\n",
        "\n"
      ],
      "execution_count": null,
      "outputs": [
        {
          "output_type": "stream",
          "text": [
            "REMOVER CONTATO: \n",
            "Entre com o nome do contato que quer deletar: bill gates\n",
            "Contato: bill gates não está na agenda.\n"
          ],
          "name": "stdout"
        }
      ]
    },
    {
      "cell_type": "markdown",
      "metadata": {
        "id": "PBeU0qkyQH6D"
      },
      "source": [
        "**Exercício 4 Letra: B**"
      ]
    },
    {
      "cell_type": "code",
      "metadata": {
        "id": "sBunqvobQD5z",
        "colab": {
          "base_uri": "https://localhost:8080/"
        },
        "outputId": "20aa1604-a4b0-403c-f986-7526a511e710"
      },
      "source": [
        "\n",
        "total = 5\n",
        "index = 0\n",
        "correntista = []\n",
        "banco = []\n",
        "print(\"Lista Banco\")\n",
        "while True:\n",
        "    print(f'Dados do Correntista {index + 1}')\n",
        "    nome = input(\"Insira o nome do correntista: \")\n",
        "    email = int(input(\"Insira o n° da conta: \"))\n",
        "    jan = int(input(\"Insira o saldo do mês de janeiro: \"))\n",
        "    fev = int(input(\"Insira o saldo do mês de fevereiro: \"))\n",
        "    mar = int(input(\"Insira o saldo do mês de março: \"))\n",
        "    abr = int(input(\"Insira o saldo do mês de abril: \"))\n",
        "    mai = int(input(\"Insira o saldo do mês de maio: \"))\n",
        "    jun = int(input(\"Insira o saldo do mês de junho: \"))\n",
        "    julh = int(input(\"Insira o saldo do mês de julho: \"))\n",
        "    ago = int(input(\"Insira o saldo do mês de agosto: \"))\n",
        "    sete = int(input(\"Insira o saldo do mês de setembro: \"))\n",
        "    out = int(input(\"Insira o saldo do mês de outubro: \"))\n",
        "    nov = int(input(\"Insira o saldo do mês de novembro: \"))\n",
        "    dez = int(input(\"Insira o saldo do mês de dezembro: \"))\n",
        "    if jan and fev and mar and abr and mai and jun and julh and ago and sete and out and nov and dez < 0:\n",
        "      print(\"Dados inválidos, tente novamente.\")\n",
        "    correntista = [nome,email,jan,fev,mar,abr,mai,jun,julh,ago,sete,out,nov,dez]\n",
        "    banco.append(correntista)\n",
        "    index += 1\n",
        "    if index == total:\n",
        "     break\n",
        "\n"
      ],
      "execution_count": null,
      "outputs": [
        {
          "output_type": "stream",
          "text": [
            "Lista Banco\n",
            "Dados do Correntista 1\n",
            "Insira o nome do correntista: Robson\n",
            "Insira o n° da conta: 123\n",
            "Insira o saldo do mês de janeiro: 1000\n",
            "Insira o saldo do mês de fevereiro: 5000\n",
            "Insira o saldo do mês de março: 2000\n",
            "Insira o saldo do mês de abril: 3000\n",
            "Insira o saldo do mês de maio: 1200\n",
            "Insira o saldo do mês de junho: 5200\n",
            "Insira o saldo do mês de julho: 3300\n",
            "Insira o saldo do mês de agosto: 2100\n",
            "Insira o saldo do mês de setembro: 1150\n",
            "Insira o saldo do mês de outubro: 2000\n",
            "Insira o saldo do mês de novembro: 1000\n",
            "Insira o saldo do mês de dezembro: 2500\n",
            "Dados do Correntista 2\n",
            "Insira o nome do correntista: Alberto\n",
            "Insira o n° da conta: 123\n",
            "Insira o saldo do mês de janeiro: 1400\n",
            "Insira o saldo do mês de fevereiro: 1550\n",
            "Insira o saldo do mês de março: 1675\n",
            "Insira o saldo do mês de abril: 1287\n",
            "Insira o saldo do mês de maio: 652\n",
            "Insira o saldo do mês de junho: 3000\n",
            "Insira o saldo do mês de julho: 2541\n",
            "Insira o saldo do mês de agosto: 2586\n",
            "Insira o saldo do mês de setembro: 3215\n",
            "Insira o saldo do mês de outubro: 522\n",
            "Insira o saldo do mês de novembro: 1536\n",
            "Insira o saldo do mês de dezembro: 2000\n",
            "Dados do Correntista 3\n",
            "Insira o nome do correntista: Lucas\n",
            "Insira o n° da conta: 112\n",
            "Insira o saldo do mês de janeiro: 1000\n",
            "Insira o saldo do mês de fevereiro: 1520\n",
            "Insira o saldo do mês de março: 2569\n",
            "Insira o saldo do mês de abril: 2015\n",
            "Insira o saldo do mês de maio: 3257\n",
            "Insira o saldo do mês de junho: 2018\n",
            "Insira o saldo do mês de julho: 3000\n",
            "Insira o saldo do mês de agosto: 2000\n",
            "Insira o saldo do mês de setembro: 1569\n",
            "Insira o saldo do mês de outubro: 2548\n",
            "Insira o saldo do mês de novembro: 1000\n",
            "Insira o saldo do mês de dezembro: 1285\n",
            "Dados do Correntista 4\n",
            "Insira o nome do correntista: Uiliam\n",
            "Insira o n° da conta: 114\n",
            "Insira o saldo do mês de janeiro: 1222\n",
            "Insira o saldo do mês de fevereiro: 22222\n",
            "Insira o saldo do mês de março: 3000\n",
            "Insira o saldo do mês de abril: 3545\n",
            "Insira o saldo do mês de maio: 600\n",
            "Insira o saldo do mês de junho: 3254\n",
            "Insira o saldo do mês de julho: 1548\n",
            "Insira o saldo do mês de agosto: 2548\n",
            "Insira o saldo do mês de setembro: 3584\n",
            "Insira o saldo do mês de outubro: 2658\n",
            "Insira o saldo do mês de novembro: 1548\n",
            "Insira o saldo do mês de dezembro: 2546\n",
            "Dados do Correntista 5\n",
            "Insira o nome do correntista: Robert\n",
            "Insira o n° da conta: 332\n",
            "Insira o saldo do mês de janeiro: 2546\n",
            "Insira o saldo do mês de fevereiro: 2545\n",
            "Insira o saldo do mês de março: 2154\n",
            "Insira o saldo do mês de abril: 9874\n",
            "Insira o saldo do mês de maio: 2444\n",
            "Insira o saldo do mês de junho: 1548\n",
            "Insira o saldo do mês de julho: 2655\n",
            "Insira o saldo do mês de agosto: 1547\n",
            "Insira o saldo do mês de setembro: 3657\n",
            "Insira o saldo do mês de outubro: 1548\n",
            "Insira o saldo do mês de novembro: 3558\n",
            "Insira o saldo do mês de dezembro: 2458\n"
          ],
          "name": "stdout"
        }
      ]
    },
    {
      "cell_type": "code",
      "metadata": {
        "id": "S3_39jqiW2dv"
      },
      "source": [
        "def pesquisarRepetidos(correntista,cPesquisa):\n",
        "  for index, correntista in enumerate(banco):\n",
        "    if banco[0][1] or banco[1][1] or banco[2][1] or banco[3][1] or banco[4][1] == cPesquisa:\n",
        "      return index\n",
        "  return -1\n"
      ],
      "execution_count": null,
      "outputs": []
    },
    {
      "cell_type": "code",
      "metadata": {
        "id": "er1uRktBZKCB",
        "colab": {
          "base_uri": "https://localhost:8080/"
        },
        "outputId": "510fb4d9-db01-4d4b-d984-a28072c8fc66"
      },
      "source": [
        "\n",
        "print(\"Verificar n° da conta repetido: \")\n",
        "cPesquisa = input(\"Insira o n° da conta que quer verificar: \")\n",
        "verificar = pesquisarRepetidos(correntista,cPesquisa)\n",
        "if verificar == -1:\n",
        "  print(\"Não há números de conta repetidos.\")\n",
        "else:\n",
        "  print(f'Número da conta já existente. ')\n"
      ],
      "execution_count": null,
      "outputs": [
        {
          "output_type": "stream",
          "text": [
            "Verificar n° da conta repetido: \n",
            "Insira o n° da conta que quer verificar: 123\n",
            "Número da conta já existente. \n"
          ],
          "name": "stdout"
        }
      ]
    }
  ]
}